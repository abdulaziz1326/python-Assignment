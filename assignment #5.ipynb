{
 "cells": [
  {
   "cell_type": "code",
   "execution_count": 1,
   "metadata": {},
   "outputs": [
    {
     "name": "stdout",
     "output_type": "stream",
     "text": [
      "Enter Number to calculate it's factorial: 3\n",
      "6\n"
     ]
    }
   ],
   "source": [
    "#QUESTION  1\n",
    "                                                        #SYED ABDUL AZIZ ALI WAFAKANI\n",
    "\n",
    "def isPositiveInteger(number):\n",
    "    if int(number) > 0 :\n",
    "        return True\n",
    "    else:\n",
    "        return False\n",
    "def calcFactorial(number):\n",
    "    factorial = 1\n",
    "    if isPositiveInteger(number) == True:\n",
    "        number = int(number)\n",
    "        for i in range(1, number + 1):\n",
    "            factorial = factorial * i\n",
    "        print(factorial)\n",
    "    else:\n",
    "        print(\"Invalid input\")\n",
    "\n",
    "factCalc = input(\"Enter Number to calculate it's factorial: \")\n",
    "calcFactorial(factCalc)\n"
   ]
  },
  {
   "cell_type": "code",
   "execution_count": 13,
   "metadata": {},
   "outputs": [
    {
     "name": "stdout",
     "output_type": "stream",
     "text": [
      "Enter String:my name is AZIZ\n",
      "Upper case 4\n",
      "Lower case 8\n"
     ]
    }
   ],
   "source": [
    "#QUESTION 2\n",
    "def CountUpperLower(stns):\n",
    "    upper=0;\n",
    "    lower=0;\n",
    "    for i in stns:\n",
    "        if i>=\"A\" and i<=\"Z\":\n",
    "            upper +=1;\n",
    "        elif i>=\"a\" and i<=\"z\":\n",
    "            lower +=1;\n",
    "    print(\"Upper case\",upper);\n",
    "    print(\"Lower case\", lower);\n",
    "\n",
    "stns = input(\"Enter String:\");\n",
    "CountUpperLower(stns);\n"
   ]
  },
  {
   "cell_type": "code",
   "execution_count": 14,
   "metadata": {},
   "outputs": [
    {
     "name": "stdout",
     "output_type": "stream",
     "text": [
      "Enter number of element you want to enter10\n",
      "12\n",
      "13\n",
      "16\n",
      "22\n",
      "30\n",
      "40\n",
      "50\n",
      "60\n",
      "90\n",
      "80\n",
      "12, 16, 22, 30, 40, 50, 60, 90, 80, "
     ]
    }
   ],
   "source": [
    "#QUESTION 3\n",
    "List = [];\n",
    "n = int(input(\"Enter number of element you want to enter\"));\n",
    "for i in range(0, n):\n",
    "    num= int(input());\n",
    "    List.append(num)\n",
    "#print(List);\n",
    "def EvenNum(List):\n",
    "    for num in List:\n",
    "        if num % 2==0:  \n",
    "            print(num, end =\", \");\n",
    "EvenNum(List);"
   ]
  },
  {
   "cell_type": "code",
   "execution_count": 25,
   "metadata": {},
   "outputs": [
    {
     "name": "stdout",
     "output_type": "stream",
     "text": [
      " to check is it Palindrome: MADAM\n",
      "The string is a palindrome\n"
     ]
    }
   ],
   "source": [
    "#QUESTION 4\n",
    "def checking(string):\n",
    "    if(string==string[::-1]):\n",
    "        print(\"The string is a palindrome\")\n",
    "    else:\n",
    "        print(\"Not a palindrome\")\n",
    "string= input(\" to check is it Palindrome: \");\n",
    "checking(string)"
   ]
  },
  {
   "cell_type": "code",
   "execution_count": 24,
   "metadata": {},
   "outputs": [
    {
     "name": "stdout",
     "output_type": "stream",
     "text": [
      "Enter num to check it is prime or not: 13\n",
      "13 is a prime number \n"
     ]
    }
   ],
   "source": [
    "#QUESTION 5\n",
    "num = int(input(\"Enter num to check it is prime or not: \"));\n",
    "def prime(num):\n",
    "    if num>1:\n",
    "        for i in range(2,num//2):\n",
    "            if(num % i)==0:\n",
    "                print(num, \" is not a prime\");\n",
    "                break;\n",
    "            else:\n",
    "                print(num, \"is a prime number \");\n",
    "                break;\n",
    "                \n",
    "    else:\n",
    "        print(num, \"is not a prime number\");\n",
    "\n",
    "prime(num);"
   ]
  },
  {
   "cell_type": "code",
   "execution_count": 39,
   "metadata": {},
   "outputs": [
    {
     "name": "stdout",
     "output_type": "stream",
     "text": [
      "Enter Shopping item [-1 to abort]: toothpaste\n",
      "Enter Shopping item [-1 to abort]: shoes\n",
      "Enter Shopping item [-1 to abort]: polish\n",
      "Enter Shopping item [-1 to abort]: gaming headset\n",
      "Enter Shopping item [-1 to abort]: graphics card rx 560 radeon\n",
      "Enter Shopping item [-1 to abort]: -1\n",
      "You purchased: toothpaste\n",
      "You purchased: shoes\n",
      "You purchased: polish\n",
      "You purchased: gaming headset\n",
      "You purchased: graphics card rx 560 radeon\n"
     ]
    }
   ],
   "source": [
    "#QUESTION 6\n",
    "def shoppingList(*items):\n",
    "    shoppingItems=[]\n",
    "    while True:\n",
    "        item = input(\"Enter Shopping item [-1 to abort]: \")\n",
    "        if item != '-1':\n",
    "            shoppingItems.append(item)\n",
    "        else:\n",
    "            break;\n",
    "    for item in range(len(shoppingItems)):\n",
    "        print(\"You purchased: {}\".format(shoppingItems[item]))\n",
    "shoppingList()\n",
    "\n"
   ]
  },
  {
   "cell_type": "code",
   "execution_count": null,
   "metadata": {},
   "outputs": [],
   "source": []
  }
 ],
 "metadata": {
  "kernelspec": {
   "display_name": "Python 3",
   "language": "python",
   "name": "python3"
  },
  "language_info": {
   "codemirror_mode": {
    "name": "ipython",
    "version": 3
   },
   "file_extension": ".py",
   "mimetype": "text/x-python",
   "name": "python",
   "nbconvert_exporter": "python",
   "pygments_lexer": "ipython3",
   "version": "3.7.4"
  }
 },
 "nbformat": 4,
 "nbformat_minor": 2
}
