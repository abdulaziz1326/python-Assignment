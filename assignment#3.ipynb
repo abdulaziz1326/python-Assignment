{
 "cells": [
  {
   "cell_type": "code",
   "execution_count": 2,
   "metadata": {},
   "outputs": [
    {
     "name": "stdout",
     "output_type": "stream",
     "text": [
      "Enter 1st VALUE 10\n",
      "Enter 2nd VALUE  10\n",
      "Enter operator  +\n",
      "20\n"
     ]
    }
   ],
   "source": [
    "#question 1                                       NAME : SYED ABDUL AZIZ ALI WAFAKANI\n",
    "\n",
    "a = int(input(\"Enter 1st VALUE \"))\n",
    "b = int( input(\"Enter 2nd VALUE  \"))\n",
    "operator = input(\"Enter operator  \")\n",
    "\n",
    "if operator == \"*\":\n",
    "    print(a*b)\n",
    "    \n",
    "elif operator == '+':\n",
    "    print(a+b)\n",
    "\n",
    "elif operator == '-':\n",
    "    print(a-b)\n",
    "    \n",
    "elif operator == '/':\n",
    "    print(a/b)\n",
    "    \n",
    "elif operator == 'p':\n",
    "    print(a**b)"
   ]
  },
  {
   "cell_type": "code",
   "execution_count": 5,
   "metadata": {},
   "outputs": [
    {
     "name": "stdout",
     "output_type": "stream",
     "text": [
      "Numeric value = 23 At Index=0\n",
      "Numeric value = 20 At Index=4\n"
     ]
    }
   ],
   "source": [
    "#question 2\n",
    "arr = [23,\"shock\",\"news\",\"mouse\",20]               \n",
    "for aa in arr:\n",
    "    if type(aa) == int or type(aa) == float:\n",
    "        print(f\"Numeric value = {aa} At Index={arr.index(aa)}\")"
   ]
  },
  {
   "cell_type": "code",
   "execution_count": 6,
   "metadata": {},
   "outputs": [
    {
     "name": "stdout",
     "output_type": "stream",
     "text": [
      "{'firstName': 'Syed', 'lastName': 'Aziz'}\n",
      "{'firstName': 'Syed', 'lastName': 'Aziz', 'mid': 'Abdul'}\n"
     ]
    }
   ],
   "source": [
    "#question 3\n",
    "dtio = {\"firstName\":\"Syed\", \"lastName\":\"Aziz\"}\n",
    "print(dtio)\n",
    "\n",
    "dtio.update({\"mid\":\"Abdul\"})\n",
    "print(dtio)"
   ]
  },
  {
   "cell_type": "code",
   "execution_count": 8,
   "metadata": {},
   "outputs": [
    {
     "name": "stdout",
     "output_type": "stream",
     "text": [
      "sum ::  472\n"
     ]
    }
   ],
   "source": [
    "#question 4\n",
    "def sumdic(dtio):\n",
    "        sum = 0\n",
    "        for i in dtio.values():\n",
    "            sum = sum + i\n",
    "        return sum\n",
    "\n",
    "ndtio = {0:200 , 1:49, 2:223 }\n",
    "\n",
    "print(\"sum :: \",sumdic(ndtio))\n"
   ]
  },
  {
   "cell_type": "code",
   "execution_count": 10,
   "metadata": {},
   "outputs": [
    {
     "name": "stdout",
     "output_type": "stream",
     "text": [
      "duplicate value is found  z\n",
      "duplicate value is found  3\n",
      "['hhh', 'z', 'abc', 'ccc', 3]\n"
     ]
    }
   ],
   "source": [
    "#question 5\n",
    "lst1 = [\"hhh\",\"z\", \"abc\",\"z\",\"ccc\",3,3]\n",
    "def dup(lst):\n",
    "    lst1dup = []\n",
    "    for val in lst:\n",
    "        if val not in lst1dup:\n",
    "            lst1dup.append(val)\n",
    "        elif val in lst1dup:\n",
    "            print(\"duplicate value is found \",val)\n",
    "    return lst1dup\n",
    "\n",
    "print(dup(lst1))"
   ]
  },
  {
   "cell_type": "code",
   "execution_count": 19,
   "metadata": {},
   "outputs": [
    {
     "name": "stdout",
     "output_type": "stream",
     "text": [
      "Key is not present in the dictionary\n",
      "Key is present in the dictionary\n"
     ]
    }
   ],
   "source": [
    "#question 06\n",
    "dic = {\n",
    "    1: 30,2: 50,3: 20,4: 50,5: 90,6: 60}\n",
    "def is_key_present(x):\n",
    "    if x in dic:\n",
    "        print('Key is present in the dictionary')\n",
    "    else: \n",
    "        print('Key is not present in the dictionary')\n",
    "            \n",
    "is_key_present(95)\n",
    "is_key_present(5)\n",
    "            \n"
   ]
  },
  {
   "cell_type": "code",
   "execution_count": null,
   "metadata": {},
   "outputs": [],
   "source": []
  }
 ],
 "metadata": {
  "kernelspec": {
   "display_name": "Python 3",
   "language": "python",
   "name": "python3"
  },
  "language_info": {
   "codemirror_mode": {
    "name": "ipython",
    "version": 3
   },
   "file_extension": ".py",
   "mimetype": "text/x-python",
   "name": "python",
   "nbconvert_exporter": "python",
   "pygments_lexer": "ipython3",
   "version": "3.7.4"
  }
 },
 "nbformat": 4,
 "nbformat_minor": 2
}
