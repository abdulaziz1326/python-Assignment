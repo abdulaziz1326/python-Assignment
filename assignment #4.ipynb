{
 "cells": [
  {
   "cell_type": "code",
   "execution_count": 1,
   "metadata": {},
   "outputs": [
    {
     "name": "stdout",
     "output_type": "stream",
     "text": [
      "Original Dictionary\n",
      "\n",
      "{'first_name': 'Abdul', 'last_name': 'Aziz', 'age': 22, 'city': 'Karachi'} \n",
      "\n",
      "\n",
      "Enter your Qualification: inter\n",
      "\n",
      "Dictionary after add new key\n",
      "\n",
      "\n",
      " {'first_name': 'Abdul', 'last_name': 'Aziz', 'age': 22, 'city': 'Karachi', 'Qualification': 'inter'}\n",
      "\n",
      "Enter your Higher Academic Level: undergraduate\n",
      "\n",
      "Dictionary after update\n",
      "\n",
      "\n",
      " {'first_name': 'Abdul', 'last_name': 'Aziz', 'age': 22, 'city': 'Karachi', 'Qualification': 'undergraduate'}\n",
      "\n",
      "Dictionary after delete\n",
      "\n",
      "\n",
      " {'first_name': 'Abdul', 'last_name': 'Aziz', 'age': 22, 'city': 'Karachi'}\n"
     ]
    }
   ],
   "source": [
    "#QUESTION 1\n",
    "                                   #NAME : SYED ABDUL AZIZ ALI WAFAKANI\n",
    "\n",
    "print(\"Original Dictionary\\n\")\n",
    "person = {\n",
    "    \"first_name\": \"Abdul\",\n",
    "    \"last_name\": \"Aziz\",\n",
    "    \"age\": 22,\n",
    "    \"city\": \"Karachi\"\n",
    "}\n",
    "print(person,\"\\n\")\n",
    "add = input(\"\\nEnter your Qualification: \")\n",
    "person[\"Qualification\"] = add\n",
    "print(\"\\nDictionary after add new key\\n\")\n",
    "print(\"\\n\",person)\n",
    "update = input(\"\\nEnter your Higher Academic Level: \")\n",
    "person[\"Qualification\"] = update\n",
    "print(\"\\nDictionary after update\\n\")\n",
    "print(\"\\n\",person)\n",
    "del person[\"Qualification\"]\n",
    "print(\"\\nDictionary after delete\\n\")\n",
    "print(\"\\n\",person)"
   ]
  },
  {
   "cell_type": "code",
   "execution_count": 2,
   "metadata": {},
   "outputs": [
    {
     "name": "stdout",
     "output_type": "stream",
     "text": [
      " City's Name:  Karachi\n",
      " Information:  {'Population': '15 million', 'Fact': 'Largest city of Pakistan', 'Country': 'Pakistan'} \n",
      "\n",
      " City's Name:  Paris\n",
      " Information:  {'Population': '2 million', 'Fact': 'city of Love', 'Country': 'French'} \n",
      "\n",
      " City's Name:  Moscow\n",
      " Information:  {'Population': '12 million', 'Fact': 'Unconquered City', 'Country': 'Russia'} \n",
      "\n"
     ]
    }
   ],
   "source": [
    "#QUESTION 2\n",
    "cities = {\n",
    "    \"Karachi\": {\n",
    "        \"Population\": \"15 million\",\n",
    "        \"Fact\": \"Largest city of Pakistan\",\n",
    "        \"Country\": \"Pakistan\"\n",
    "    },\n",
    "    \"Paris\": {\n",
    "        \"Population\": \"2 million\",\n",
    "        \"Fact\": \"city of Love\",\n",
    "        \"Country\": \"French\"\n",
    "    },\n",
    "    \"Moscow\": {\n",
    "        \"Population\": \"12 million\",\n",
    "        \"Fact\": \"Unconquered City\",\n",
    "        \"Country\": \"Russia\"\n",
    "    }\n",
    "}\n",
    "for key,value in cities.items():\n",
    "    print(\" City's Name: \",key)\n",
    "    print(\" Information: \",value,\"\\n\")"
   ]
  },
  {
   "cell_type": "code",
   "execution_count": 4,
   "metadata": {},
   "outputs": [
    {
     "name": "stdout",
     "output_type": "stream",
     "text": [
      "Tell your Age: 22\n",
      "Your ticket's is $15\n",
      "Do you want to Continue Press y for Yes & Press any keys for exit: y\n",
      "Tell your Age: 20\n",
      "Your ticket's is $15\n",
      "Do you want to Continue Press y for Yes & Press any keys for exit: n\n",
      "Program is Terminate\n"
     ]
    }
   ],
   "source": [
    "#QUESTION 3\n",
    "\n",
    "repeat = 'y'\n",
    "while repeat == 'y':\n",
    "    age = int(input(\"Tell your Age: \"))\n",
    "    if age < 3:\n",
    "        print(\"Your ticket's price is Free\")\n",
    "    elif age >= 3 and age <= 12:\n",
    "        print(\"Your ticket's price is $10\")\n",
    "    elif age > 12:\n",
    "        print(\"Your ticket's is $15\")\n",
    "    else:\n",
    "        print(\"Invalid Input\")\n",
    "    repeat = input(\"Do you want to Continue Press y for Yes & Press any keys for exit: \")\n",
    "    if repeat != 'y':\n",
    "        print(\"Program is Terminate\")"
   ]
  },
  {
   "cell_type": "code",
   "execution_count": 6,
   "metadata": {},
   "outputs": [
    {
     "name": "stdout",
     "output_type": "stream",
     "text": [
      "Enter the Book's title the prisoner of zenda\n",
      "One of my favorite books is   the prisoner of zenda\n"
     ]
    }
   ],
   "source": [
    "#QUESTION 4\n",
    "\n",
    "\n",
    "def favorite_book(book):\n",
    "    print(\"One of my favorite books is \",book)\n",
    "book = input(\"Enter the Book's title\")\n",
    "favorite_book(book)"
   ]
  },
  {
   "cell_type": "code",
   "execution_count": 8,
   "metadata": {},
   "outputs": [
    {
     "name": "stdout",
     "output_type": "stream",
     "text": [
      "Enter your Number: 22\n",
      "You Guess Higher Number\n",
      "Computer's Guess Number:  6\n",
      "Enter your Number: 25\n",
      "You Guess Lower Number\n",
      "Computer's Guess Number:  28\n",
      "Enter your Number: 13\n",
      "You Guess Lower Number\n",
      "Computer's Guess Number:  30\n"
     ]
    }
   ],
   "source": [
    "#question 5\n",
    "\n",
    "import random\n",
    "count = 0\n",
    "while count < 3:\n",
    "    guess = int(input(\"Enter your Number: \"))\n",
    "    count += 1\n",
    "    rand = random.randint(1,30)\n",
    "    if guess == rand:\n",
    "        print(\"You Guess Correct Number\")\n",
    "    elif guess > rand:\n",
    "        print(\"You Guess Higher Number\")\n",
    "    elif guess < rand:\n",
    "        print(\"You Guess Lower Number\")\n",
    "    print(\"Computer's Guess Number: \",rand)"
   ]
  },
  {
   "cell_type": "code",
   "execution_count": null,
   "metadata": {},
   "outputs": [],
   "source": []
  },
  {
   "cell_type": "code",
   "execution_count": null,
   "metadata": {},
   "outputs": [],
   "source": []
  }
 ],
 "metadata": {
  "kernelspec": {
   "display_name": "Python 3",
   "language": "python",
   "name": "python3"
  },
  "language_info": {
   "codemirror_mode": {
    "name": "ipython",
    "version": 3
   },
   "file_extension": ".py",
   "mimetype": "text/x-python",
   "name": "python",
   "nbconvert_exporter": "python",
   "pygments_lexer": "ipython3",
   "version": "3.7.4"
  }
 },
 "nbformat": 4,
 "nbformat_minor": 2
}
